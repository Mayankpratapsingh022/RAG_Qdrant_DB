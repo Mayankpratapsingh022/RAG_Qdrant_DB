{
 "cells": [
  {
   "cell_type": "markdown",
   "id": "6e596187",
   "metadata": {},
   "source": [
    "Import the libraries"
   ]
  },
  {
   "cell_type": "code",
   "execution_count": 1,
   "id": "89796f11",
   "metadata": {},
   "outputs": [],
   "source": [
    "from langchain.vectorstores import Qdrant\n",
    "from langchain.embeddings.openai import OpenAIEmbeddings\n",
    "from langchain.schema import Document"
   ]
  },
  {
   "cell_type": "code",
   "execution_count": 2,
   "id": "da317c7b",
   "metadata": {},
   "outputs": [],
   "source": [
    "# Example documents simulating a bank knowledge base\n",
    "docs = [\n",
    "    Document(page_content=\"If a transfer fails due to insufficient funds, ...\", metadata={\"source\": \"FAQ\"}),\n",
    "    Document(page_content=\"Transfers may be declined if daily limits are exceeded or account details are invalid, ...\", metadata={\"source\": \"Guide\"}),\n",
    "    Document(page_content=\"Error codes for failed bank transfers: 101 Insufficient Funds, 102 Account Not Found, ...\", metadata={\"source\": \"TechSupport\"})\n",
    "    # Additional documents can be added here\n",
    "]\n"
   ]
  },
  {
   "cell_type": "code",
   "execution_count": 9,
   "id": "e3a64595",
   "metadata": {},
   "outputs": [],
   "source": [
    "# Initialize OpenAI embeddings\n",
    "embedding_model = OpenAIEmbeddings()"
   ]
  },
  {
   "cell_type": "code",
   "execution_count": 6,
   "id": "9fc2fed2",
   "metadata": {},
   "outputs": [],
   "source": [
    "# Connect to Qdrant (ensure it is running at localhost:6333)\n",
    "vectordb = Qdrant.from_documents(\n",
    "    docs,\n",
    "    embedding_model,\n",
    "    url=\"http://localhost:6333\",\n",
    "    collection_name=\"bank_knowledge\"\n",
    ")"
   ]
  },
  {
   "cell_type": "markdown",
   "id": "3bf87a6b",
   "metadata": {},
   "source": [
    "We load documents into memory, embed them using OpenAI's embedding model, and store them in a Qdrant collection for future retrieval."
   ]
  },
  {
   "cell_type": "markdown",
   "id": "30740ff1",
   "metadata": {},
   "source": [
    "We now use a language model to generate multiple versions of the user's query to increase recall."
   ]
  },
  {
   "cell_type": "code",
   "execution_count": 7,
   "id": "83abb4c3",
   "metadata": {},
   "outputs": [
    {
     "name": "stderr",
     "output_type": "stream",
     "text": [
      "C:\\Users\\mayan\\AppData\\Local\\Temp\\ipykernel_15328\\665323269.py:5: LangChainDeprecationWarning: The class `ChatOpenAI` was deprecated in LangChain 0.0.10 and will be removed in 1.0. An updated version of the class exists in the :class:`~langchain-openai package and should be used instead. To use it run `pip install -U :class:`~langchain-openai` and import as `from :class:`~langchain_openai import ChatOpenAI``.\n",
      "  llm = ChatOpenAI(temperature=0)\n"
     ]
    }
   ],
   "source": [
    "from langchain.chat_models import ChatOpenAI\n",
    "from langchain.retrievers import MultiQueryRetriever\n",
    "\n",
    "# Use a deterministic LLM for consistent outputs\n",
    "llm = ChatOpenAI(temperature=0)\n",
    "\n",
    "# Wrap the base retriever with MultiQueryRetriever\n",
    "multi_retriever = MultiQueryRetriever.from_llm(\n",
    "    retriever=vectordb.as_retriever(),\n",
    "    llm=llm\n",
    ")\n"
   ]
  },
  {
   "cell_type": "markdown",
   "id": "63f8c5df",
   "metadata": {},
   "source": [
    "We instantiate a ChatOpenAI model to generate multiple rephrasings of the input question. These variations are passed to the retriever to pull a wider range of relevant documents."
   ]
  },
  {
   "cell_type": "markdown",
   "id": "77c84d2e",
   "metadata": {},
   "source": [
    "Now, let’s use the retriever to fetch documents related to the user’s query."
   ]
  },
  {
   "cell_type": "code",
   "execution_count": 8,
   "id": "57aebf8a",
   "metadata": {},
   "outputs": [
    {
     "name": "stderr",
     "output_type": "stream",
     "text": [
      "C:\\Users\\mayan\\AppData\\Local\\Temp\\ipykernel_15328\\206421986.py:2: LangChainDeprecationWarning: The method `BaseRetriever.get_relevant_documents` was deprecated in langchain-core 0.1.46 and will be removed in 1.0. Use :meth:`~invoke` instead.\n",
      "  docs_found = multi_retriever.get_relevant_documents(user_question)\n"
     ]
    },
    {
     "name": "stdout",
     "output_type": "stream",
     "text": [
      "Retrieved 3 documents with Multi-Query RAG.\n",
      "Doc 1: Error codes for failed bank transfers: 101 Insufficient Fund...\n",
      "Doc 2: If a transfer fails due to insufficient funds, ......\n",
      "Doc 3: Transfers may be declined if daily limits are exceeded or ac...\n"
     ]
    }
   ],
   "source": [
    "user_question = \"Why did my bank transfer fail?\"\n",
    "docs_found = multi_retriever.get_relevant_documents(user_question)\n",
    "\n",
    "print(f\"Retrieved {len(docs_found)} documents with Multi-Query RAG.\")\n",
    "for i, doc in enumerate(docs_found, 1):\n",
    "    snippet = doc.page_content[:60].strip()\n",
    "    print(f\"Doc {i}: {snippet}...\")\n"
   ]
  },
  {
   "cell_type": "markdown",
   "id": "fe5d3f1a",
   "metadata": {},
   "source": [
    "What’s happening:\n",
    "The get_relevant_documents method internally prompts the LLM to generate multiple versions of the input query. Each query is used to perform a similarity search on the Qdrant vector store. The results are combined and deduplicated before being returned."
   ]
  },
  {
   "cell_type": "markdown",
   "id": "7d27f8ff",
   "metadata": {},
   "source": [
    "# Reciprocal Rank Fusion"
   ]
  },
  {
   "cell_type": "markdown",
   "id": "1707804b",
   "metadata": {},
   "source": [
    "## Assume we already have our vectordb (Qdrant) and embedding model from earlier."
   ]
  },
  {
   "cell_type": "code",
   "execution_count": 10,
   "id": "32ce8f77",
   "metadata": {},
   "outputs": [],
   "source": [
    "\n",
    "# Two different query formulations (e.g., produced by an LLM or manually crafted):\n",
    "queries = [\n",
    "    \"Why would a bank transfer be declined? Insufficient funds scenario.\", \n",
    "    \"Reasons a bank transfer might fail due to account issues or limits.\"\n",
    "]\n"
   ]
  },
  {
   "cell_type": "markdown",
   "id": "ac13b738",
   "metadata": {},
   "source": [
    "These variations represent different phrasings of the same core user intent. They may yield different sets of relevant documents, which we aim to combine."
   ]
  },
  {
   "cell_type": "markdown",
   "id": "146a9350",
   "metadata": {},
   "source": [
    "We run a similarity search using Qdrant for each query and collect the top-k results along with their scores."
   ]
  },
  {
   "cell_type": "code",
   "execution_count": 11,
   "id": "ddc5460d",
   "metadata": {},
   "outputs": [],
   "source": [
    "results_lists = []  # List to hold results from each query\n",
    "\n",
    "for q in queries:\n",
    "    res = vectordb.similarity_search_with_score(q, k=5)  # returns (Document, similarity_score)\n",
    "    results_lists.append(res)\n"
   ]
  },
  {
   "cell_type": "markdown",
   "id": "972357af",
   "metadata": {},
   "source": [
    "We store the results for each query in results_lists. Each list contains tuples of documents and their similarity scores. For RRF, we use only the rank position, not the score."
   ]
  },
  {
   "cell_type": "markdown",
   "id": "23d9b89c",
   "metadata": {},
   "source": [
    "We calculate a fused score for each document using the Reciprocal Rank Fusion (RRF) formula:\n",
    "\n",
    "$$\n",
    "\\text{Score}_{\\text{doc}} = \\sum_{i=1}^{n} \\frac{1}{\\text{rank}_i}\n",
    "$$\n",
    "\n",
    "\n"
   ]
  },
  {
   "cell_type": "code",
   "execution_count": 12,
   "id": "ce2c8f7e",
   "metadata": {},
   "outputs": [
    {
     "name": "stdout",
     "output_type": "stream",
     "text": [
      "[[(Document(metadata={'source': 'FAQ', '_id': 'c55c6c24-2618-4dc9-96a7-4da7cb26215d', '_collection_name': 'bank_knowledge'}, page_content='If a transfer fails due to insufficient funds, ...'), 0.88985664), (Document(metadata={'source': 'Guide', '_id': '5562df7d-a42c-4392-91b6-f88005a42c89', '_collection_name': 'bank_knowledge'}, page_content='Transfers may be declined if daily limits are exceeded or account details are invalid, ...'), 0.8665598), (Document(metadata={'source': 'TechSupport', '_id': '8762a800-1c85-4a62-b6ab-cc22f0e36898', '_collection_name': 'bank_knowledge'}, page_content='Error codes for failed bank transfers: 101 Insufficient Funds, 102 Account Not Found, ...'), 0.8634267)], [(Document(metadata={'source': 'Guide', '_id': '5562df7d-a42c-4392-91b6-f88005a42c89', '_collection_name': 'bank_knowledge'}, page_content='Transfers may be declined if daily limits are exceeded or account details are invalid, ...'), 0.89812684), (Document(metadata={'source': 'TechSupport', '_id': '8762a800-1c85-4a62-b6ab-cc22f0e36898', '_collection_name': 'bank_knowledge'}, page_content='Error codes for failed bank transfers: 101 Insufficient Funds, 102 Account Not Found, ...'), 0.8795091), (Document(metadata={'source': 'FAQ', '_id': 'c55c6c24-2618-4dc9-96a7-4da7cb26215d', '_collection_name': 'bank_knowledge'}, page_content='If a transfer fails due to insufficient funds, ...'), 0.87587655)]]\n"
     ]
    }
   ],
   "source": [
    "print(results_lists)"
   ]
  },
  {
   "cell_type": "code",
   "execution_count": 16,
   "id": "bb5a1c7f",
   "metadata": {},
   "outputs": [],
   "source": [
    "from collections import defaultdict\n",
    "\n",
    "fused_scores = defaultdict(float)\n",
    "doc_lookup = {}  # To map IDs back to Document objects\n",
    "\n",
    "for res_list in results_lists:\n",
    "    for rank, (doc, _) in enumerate(res_list, start=1):\n",
    "        doc_id = doc.metadata.get(\"id\", doc.page_content)  # Use ID or fallback to text\n",
    "        fused_scores[doc_id] += 1.0 / rank\n",
    "        doc_lookup[doc_id] = doc  # Save reference to the document\n"
   ]
  },
  {
   "cell_type": "markdown",
   "id": "40a1f830",
   "metadata": {},
   "source": [
    "For each list of results, we iterate through the documents and assign a score of 1/rank\n",
    "If a document appears in multiple lists, its score accumulates, boosting its rank in the final fused list."
   ]
  },
  {
   "cell_type": "markdown",
   "id": "b38bf3e8",
   "metadata": {},
   "source": [
    "Now we sort the documents in descending order of their accumulated RRF score."
   ]
  },
  {
   "cell_type": "code",
   "execution_count": 17,
   "id": "ed36eced",
   "metadata": {},
   "outputs": [],
   "source": [
    "ranked_docs = sorted(fused_scores.items(), key=lambda item: item[1], reverse=True)\n"
   ]
  },
  {
   "cell_type": "markdown",
   "id": "988aa9ec",
   "metadata": {},
   "source": [
    "Documents with higher total RRF scores (i.e., that appear higher and more frequently in multiple result sets) are ranked higher."
   ]
  },
  {
   "cell_type": "markdown",
   "id": "ed937f1b",
   "metadata": {},
   "source": [
    "We print out the final top documents after fusion."
   ]
  },
  {
   "cell_type": "code",
   "execution_count": 19,
   "id": "5b6dc004",
   "metadata": {},
   "outputs": [
    {
     "name": "stdout",
     "output_type": "stream",
     "text": [
      "Final RRF-ranked documents:\n",
      "- Transfers may be declined if daily limits are exceeded or account details are invalid, ... (score=1.50)\n",
      "- If a transfer fails due to insufficient funds, ... (score=1.33)\n",
      "- Error codes for failed bank transfers: 101 Insufficient Funds, 102 Account Not Found, ... (score=0.83)\n"
     ]
    }
   ],
   "source": [
    "# Assume you already built this earlier:\n",
    "# doc_lookup = {doc_id: Document}\n",
    "\n",
    "print(\"Final RRF-ranked documents:\")\n",
    "for doc_id, total_score in ranked_docs[:5]:\n",
    "    doc = doc_lookup[doc_id]  # Get the actual Document object\n",
    "    title = doc.page_content.split('.')[0]  # use first sentence\n",
    "    print(f\"- {title}... (score={total_score:.2f})\")\n"
   ]
  }
 ],
 "metadata": {
  "kernelspec": {
   "display_name": "Python 3",
   "language": "python",
   "name": "python3"
  },
  "language_info": {
   "codemirror_mode": {
    "name": "ipython",
    "version": 3
   },
   "file_extension": ".py",
   "mimetype": "text/x-python",
   "name": "python",
   "nbconvert_exporter": "python",
   "pygments_lexer": "ipython3",
   "version": "3.13.2"
  }
 },
 "nbformat": 4,
 "nbformat_minor": 5
}
